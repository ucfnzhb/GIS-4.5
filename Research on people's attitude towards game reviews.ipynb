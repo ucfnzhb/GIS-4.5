{
 "cells": [
  {
   "cell_type": "markdown",
   "metadata": {},
   "source": [
    "# Research on people's attitude towards game reviews (running time: 2 minutes）"
   ]
  },
  {
   "cell_type": "markdown",
   "metadata": {},
   "source": [
    "# Research Background"
   ]
  },
  {
   "cell_type": "markdown",
   "metadata": {},
   "source": [
    "Nowadays, games have become an indispensable form of entertainment for contemporary teenagers. Different games and different game crowds will cause different evaluations of the game. Game players post their attitude towards the game under the game review module. As a result, what kind of game reviews will be considered valuable reviews? This article selects Steam's comment area as a data source to predict how satisfied people are with a new comment. The reason for choosing the Steam data set is that data from the tracking site Steam Spy (https://steamspy.com/) indicated that Steam currently has 281 million registered accounts worldwide and 17.5 million online users until 2017. The population base is large, and the types of games are diversified, which can represent the game market to a certain extent."
   ]
  },
  {
   "cell_type": "markdown",
   "metadata": {},
   "source": [
    "#  Purpose of the article"
   ]
  },
  {
   "cell_type": "markdown",
   "metadata": {},
   "source": [
    "The purpose of this article is to use the natural language processing of previous years' review data to get the most praised reviews and obtain models. Whenever a new comment appears, this model can be used to predict the final rating of the review."
   ]
  },
  {
   "cell_type": "markdown",
   "metadata": {},
   "source": [
    "Firstly, reading the data. The data source is from https://cseweb.ucsd.edu/~jmcauley/datasets.html (Steam Video Game and Bundle Data). The code of how to dealing with the gzip data is from the data source web page"
   ]
  },
  {
   "cell_type": "code",
   "execution_count": 1,
   "metadata": {},
   "outputs": [],
   "source": [
    "import pandas as pd\n",
    "import gzip\n",
    "\n",
    "def parse(path):\n",
    "  g = gzip.open(path, 'rb')\n",
    "  for l in g:\n",
    "    yield eval(l)\n",
    " \n",
    "def getDF(path):\n",
    "  i = 0\n",
    "  df = {}\n",
    "  for d in parse(path):\n",
    "    df[i] = d\n",
    "    i += 1\n",
    "  return pd.DataFrame.from_dict(df, orient='index')\n",
    "\n",
    "df = getDF('E:/google/australian_user_reviews.json.gz')"
   ]
  },
  {
   "cell_type": "code",
   "execution_count": 2,
   "metadata": {},
   "outputs": [
    {
     "data": {
      "text/html": [
       "<div>\n",
       "<style scoped>\n",
       "    .dataframe tbody tr th:only-of-type {\n",
       "        vertical-align: middle;\n",
       "    }\n",
       "\n",
       "    .dataframe tbody tr th {\n",
       "        vertical-align: top;\n",
       "    }\n",
       "\n",
       "    .dataframe thead th {\n",
       "        text-align: right;\n",
       "    }\n",
       "</style>\n",
       "<table border=\"1\" class=\"dataframe\">\n",
       "  <thead>\n",
       "    <tr style=\"text-align: right;\">\n",
       "      <th></th>\n",
       "      <th>user_id</th>\n",
       "      <th>user_url</th>\n",
       "      <th>reviews</th>\n",
       "    </tr>\n",
       "  </thead>\n",
       "  <tbody>\n",
       "    <tr>\n",
       "      <td>0</td>\n",
       "      <td>76561197970982479</td>\n",
       "      <td>http://steamcommunity.com/profiles/76561197970...</td>\n",
       "      <td>[{'funny': '', 'posted': 'Posted November 5, 2...</td>\n",
       "    </tr>\n",
       "    <tr>\n",
       "      <td>1</td>\n",
       "      <td>js41637</td>\n",
       "      <td>http://steamcommunity.com/id/js41637</td>\n",
       "      <td>[{'funny': '', 'posted': 'Posted June 24, 2014...</td>\n",
       "    </tr>\n",
       "    <tr>\n",
       "      <td>2</td>\n",
       "      <td>evcentric</td>\n",
       "      <td>http://steamcommunity.com/id/evcentric</td>\n",
       "      <td>[{'funny': '', 'posted': 'Posted February 3.',...</td>\n",
       "    </tr>\n",
       "    <tr>\n",
       "      <td>3</td>\n",
       "      <td>doctr</td>\n",
       "      <td>http://steamcommunity.com/id/doctr</td>\n",
       "      <td>[{'funny': '', 'posted': 'Posted October 14, 2...</td>\n",
       "    </tr>\n",
       "    <tr>\n",
       "      <td>4</td>\n",
       "      <td>maplemage</td>\n",
       "      <td>http://steamcommunity.com/id/maplemage</td>\n",
       "      <td>[{'funny': '3 people found this review funny',...</td>\n",
       "    </tr>\n",
       "  </tbody>\n",
       "</table>\n",
       "</div>"
      ],
      "text/plain": [
       "             user_id                                           user_url  \\\n",
       "0  76561197970982479  http://steamcommunity.com/profiles/76561197970...   \n",
       "1            js41637               http://steamcommunity.com/id/js41637   \n",
       "2          evcentric             http://steamcommunity.com/id/evcentric   \n",
       "3              doctr                 http://steamcommunity.com/id/doctr   \n",
       "4          maplemage             http://steamcommunity.com/id/maplemage   \n",
       "\n",
       "                                             reviews  \n",
       "0  [{'funny': '', 'posted': 'Posted November 5, 2...  \n",
       "1  [{'funny': '', 'posted': 'Posted June 24, 2014...  \n",
       "2  [{'funny': '', 'posted': 'Posted February 3.',...  \n",
       "3  [{'funny': '', 'posted': 'Posted October 14, 2...  \n",
       "4  [{'funny': '3 people found this review funny',...  "
      ]
     },
     "execution_count": 2,
     "metadata": {},
     "output_type": "execute_result"
    }
   ],
   "source": [
    "df.head()"
   ]
  },
  {
   "cell_type": "markdown",
   "metadata": {},
   "source": [
    "In this analysis, we only focuse on the reviews. Thus, select the data we want to use and set up an new dataframe to store the data."
   ]
  },
  {
   "cell_type": "code",
   "execution_count": 3,
   "metadata": {},
   "outputs": [],
   "source": [
    "import numpy as np"
   ]
  },
  {
   "cell_type": "code",
   "execution_count": 4,
   "metadata": {},
   "outputs": [],
   "source": [
    "#get the reviwe coloums\n",
    "reviews=df.reviews"
   ]
  },
  {
   "cell_type": "code",
   "execution_count": 5,
   "metadata": {},
   "outputs": [],
   "source": [
    "#change data type to the dataframe\n",
    "f=[]\n",
    "for i in reviews:\n",
    "    for e in i:\n",
    "        f.append(e)"
   ]
  },
  {
   "cell_type": "code",
   "execution_count": 6,
   "metadata": {},
   "outputs": [],
   "source": [
    "data=pd.DataFrame(f)"
   ]
  },
  {
   "cell_type": "code",
   "execution_count": 7,
   "metadata": {},
   "outputs": [
    {
     "data": {
      "text/html": [
       "<div>\n",
       "<style scoped>\n",
       "    .dataframe tbody tr th:only-of-type {\n",
       "        vertical-align: middle;\n",
       "    }\n",
       "\n",
       "    .dataframe tbody tr th {\n",
       "        vertical-align: top;\n",
       "    }\n",
       "\n",
       "    .dataframe thead th {\n",
       "        text-align: right;\n",
       "    }\n",
       "</style>\n",
       "<table border=\"1\" class=\"dataframe\">\n",
       "  <thead>\n",
       "    <tr style=\"text-align: right;\">\n",
       "      <th></th>\n",
       "      <th>funny</th>\n",
       "      <th>posted</th>\n",
       "      <th>last_edited</th>\n",
       "      <th>item_id</th>\n",
       "      <th>helpful</th>\n",
       "      <th>recommend</th>\n",
       "      <th>review</th>\n",
       "    </tr>\n",
       "  </thead>\n",
       "  <tbody>\n",
       "    <tr>\n",
       "      <td>0</td>\n",
       "      <td></td>\n",
       "      <td>Posted November 5, 2011.</td>\n",
       "      <td></td>\n",
       "      <td>1250</td>\n",
       "      <td>No ratings yet</td>\n",
       "      <td>True</td>\n",
       "      <td>Simple yet with great replayability. In my opi...</td>\n",
       "    </tr>\n",
       "    <tr>\n",
       "      <td>1</td>\n",
       "      <td></td>\n",
       "      <td>Posted July 15, 2011.</td>\n",
       "      <td></td>\n",
       "      <td>22200</td>\n",
       "      <td>No ratings yet</td>\n",
       "      <td>True</td>\n",
       "      <td>It's unique and worth a playthrough.</td>\n",
       "    </tr>\n",
       "    <tr>\n",
       "      <td>2</td>\n",
       "      <td></td>\n",
       "      <td>Posted April 21, 2011.</td>\n",
       "      <td></td>\n",
       "      <td>43110</td>\n",
       "      <td>No ratings yet</td>\n",
       "      <td>True</td>\n",
       "      <td>Great atmosphere. The gunplay can be a bit chu...</td>\n",
       "    </tr>\n",
       "    <tr>\n",
       "      <td>3</td>\n",
       "      <td></td>\n",
       "      <td>Posted June 24, 2014.</td>\n",
       "      <td></td>\n",
       "      <td>251610</td>\n",
       "      <td>15 of 20 people (75%) found this review helpful</td>\n",
       "      <td>True</td>\n",
       "      <td>I know what you think when you see this title ...</td>\n",
       "    </tr>\n",
       "    <tr>\n",
       "      <td>4</td>\n",
       "      <td></td>\n",
       "      <td>Posted September 8, 2013.</td>\n",
       "      <td></td>\n",
       "      <td>227300</td>\n",
       "      <td>0 of 1 people (0%) found this review helpful</td>\n",
       "      <td>True</td>\n",
       "      <td>For a simple (it's actually not all that simpl...</td>\n",
       "    </tr>\n",
       "  </tbody>\n",
       "</table>\n",
       "</div>"
      ],
      "text/plain": [
       "  funny                     posted last_edited item_id  \\\n",
       "0         Posted November 5, 2011.                1250   \n",
       "1            Posted July 15, 2011.               22200   \n",
       "2           Posted April 21, 2011.               43110   \n",
       "3            Posted June 24, 2014.              251610   \n",
       "4        Posted September 8, 2013.              227300   \n",
       "\n",
       "                                           helpful  recommend  \\\n",
       "0                                   No ratings yet       True   \n",
       "1                                   No ratings yet       True   \n",
       "2                                   No ratings yet       True   \n",
       "3  15 of 20 people (75%) found this review helpful       True   \n",
       "4     0 of 1 people (0%) found this review helpful       True   \n",
       "\n",
       "                                              review  \n",
       "0  Simple yet with great replayability. In my opi...  \n",
       "1               It's unique and worth a playthrough.  \n",
       "2  Great atmosphere. The gunplay can be a bit chu...  \n",
       "3  I know what you think when you see this title ...  \n",
       "4  For a simple (it's actually not all that simpl...  "
      ]
     },
     "execution_count": 7,
     "metadata": {},
     "output_type": "execute_result"
    }
   ],
   "source": [
    "data.head()"
   ]
  },
  {
   "cell_type": "code",
   "execution_count": 8,
   "metadata": {},
   "outputs": [
    {
     "data": {
      "text/plain": [
       "funny          59305\n",
       "posted         59305\n",
       "last_edited    59305\n",
       "item_id        59305\n",
       "helpful        59305\n",
       "recommend      59305\n",
       "review         59305\n",
       "dtype: int64"
      ]
     },
     "execution_count": 8,
     "metadata": {},
     "output_type": "execute_result"
    }
   ],
   "source": [
    "data.count()"
   ]
  },
  {
   "cell_type": "code",
   "execution_count": 9,
   "metadata": {},
   "outputs": [
    {
     "data": {
      "text/plain": [
       "funny          8151\n",
       "posted         8151\n",
       "last_edited    8151\n",
       "item_id        8151\n",
       "helpful        8151\n",
       "recommend      8151\n",
       "review         8151\n",
       "dtype: int64"
      ]
     },
     "execution_count": 9,
     "metadata": {},
     "output_type": "execute_result"
    }
   ],
   "source": [
    "data.loc[data['funny']!=''].count()"
   ]
  },
  {
   "cell_type": "code",
   "execution_count": 10,
   "metadata": {},
   "outputs": [
    {
     "data": {
      "text/plain": [
       "funny          6140\n",
       "posted         6140\n",
       "last_edited    6140\n",
       "item_id        6140\n",
       "helpful        6140\n",
       "recommend      6140\n",
       "review         6140\n",
       "dtype: int64"
      ]
     },
     "execution_count": 10,
     "metadata": {},
     "output_type": "execute_result"
    }
   ],
   "source": [
    "data.loc[data['last_edited']!=''].count()"
   ]
  },
  {
   "cell_type": "code",
   "execution_count": 11,
   "metadata": {},
   "outputs": [
    {
     "data": {
      "text/plain": [
       "funny          29137\n",
       "posted         29137\n",
       "last_edited    29137\n",
       "item_id        29137\n",
       "helpful        29137\n",
       "recommend      29137\n",
       "review         29137\n",
       "dtype: int64"
      ]
     },
     "execution_count": 11,
     "metadata": {},
     "output_type": "execute_result"
    }
   ],
   "source": [
    "data.loc[data['helpful']!='No ratings yet'].count()"
   ]
  },
  {
   "cell_type": "markdown",
   "metadata": {},
   "source": [
    "# Preliminary data cleaning"
   ]
  },
  {
   "cell_type": "markdown",
   "metadata": {},
   "source": [
    "As the data frame shows, because the ratio of useful variables (not empty) in the funny data set (8151/59305) is small, the funny dataset is deleted. On the other hand, there are two variables about the date, the one is the ‘posted’ – posted time, the other is ‘last edited’ – the last modification date. As the count shows, some comments do not have the last modification time, there are many missing values (6140/59305), thus, the posted date is used to measure time, delete the ‘last_edited’ column. At the same time, this analysis only focuses on the game reviews themselves, which is for all game items. In this situation, remove the 'item_id'."
   ]
  },
  {
   "cell_type": "code",
   "execution_count": 12,
   "metadata": {},
   "outputs": [],
   "source": [
    "#first, remove the no ratings yet data\n",
    "#clean the data\n",
    "data_help=data.loc[data['helpful']!='No ratings yet']\n",
    "#remove un use column\n",
    "data_help=data_help.drop(['funny','item_id','last_edited',],axis=1)"
   ]
  },
  {
   "cell_type": "code",
   "execution_count": 13,
   "metadata": {},
   "outputs": [
    {
     "data": {
      "text/html": [
       "<div>\n",
       "<style scoped>\n",
       "    .dataframe tbody tr th:only-of-type {\n",
       "        vertical-align: middle;\n",
       "    }\n",
       "\n",
       "    .dataframe tbody tr th {\n",
       "        vertical-align: top;\n",
       "    }\n",
       "\n",
       "    .dataframe thead th {\n",
       "        text-align: right;\n",
       "    }\n",
       "</style>\n",
       "<table border=\"1\" class=\"dataframe\">\n",
       "  <thead>\n",
       "    <tr style=\"text-align: right;\">\n",
       "      <th></th>\n",
       "      <th>posted</th>\n",
       "      <th>helpful</th>\n",
       "      <th>recommend</th>\n",
       "      <th>review</th>\n",
       "    </tr>\n",
       "  </thead>\n",
       "  <tbody>\n",
       "    <tr>\n",
       "      <td>3</td>\n",
       "      <td>Posted June 24, 2014.</td>\n",
       "      <td>15 of 20 people (75%) found this review helpful</td>\n",
       "      <td>True</td>\n",
       "      <td>I know what you think when you see this title ...</td>\n",
       "    </tr>\n",
       "    <tr>\n",
       "      <td>4</td>\n",
       "      <td>Posted September 8, 2013.</td>\n",
       "      <td>0 of 1 people (0%) found this review helpful</td>\n",
       "      <td>True</td>\n",
       "      <td>For a simple (it's actually not all that simpl...</td>\n",
       "    </tr>\n",
       "    <tr>\n",
       "      <td>5</td>\n",
       "      <td>Posted November 29, 2013.</td>\n",
       "      <td>1 of 4 people (25%) found this review helpful</td>\n",
       "      <td>True</td>\n",
       "      <td>Very fun little game to play when your bored o...</td>\n",
       "    </tr>\n",
       "    <tr>\n",
       "      <td>12</td>\n",
       "      <td>Posted October 14, 2013.</td>\n",
       "      <td>2 of 2 people (100%) found this review helpful</td>\n",
       "      <td>True</td>\n",
       "      <td>This game... is so fun. The fight sequences ha...</td>\n",
       "    </tr>\n",
       "    <tr>\n",
       "      <td>13</td>\n",
       "      <td>Posted July 28, 2012.</td>\n",
       "      <td>1 of 1 people (100%) found this review helpful</td>\n",
       "      <td>True</td>\n",
       "      <td>Really Really Really Great Game, very good sto...</td>\n",
       "    </tr>\n",
       "  </tbody>\n",
       "</table>\n",
       "</div>"
      ],
      "text/plain": [
       "                       posted  \\\n",
       "3       Posted June 24, 2014.   \n",
       "4   Posted September 8, 2013.   \n",
       "5   Posted November 29, 2013.   \n",
       "12   Posted October 14, 2013.   \n",
       "13      Posted July 28, 2012.   \n",
       "\n",
       "                                            helpful  recommend  \\\n",
       "3   15 of 20 people (75%) found this review helpful       True   \n",
       "4      0 of 1 people (0%) found this review helpful       True   \n",
       "5     1 of 4 people (25%) found this review helpful       True   \n",
       "12   2 of 2 people (100%) found this review helpful       True   \n",
       "13   1 of 1 people (100%) found this review helpful       True   \n",
       "\n",
       "                                               review  \n",
       "3   I know what you think when you see this title ...  \n",
       "4   For a simple (it's actually not all that simpl...  \n",
       "5   Very fun little game to play when your bored o...  \n",
       "12  This game... is so fun. The fight sequences ha...  \n",
       "13  Really Really Really Great Game, very good sto...  "
      ]
     },
     "execution_count": 13,
     "metadata": {},
     "output_type": "execute_result"
    }
   ],
   "source": [
    "data_help.head()"
   ]
  },
  {
   "cell_type": "markdown",
   "metadata": {},
   "source": [
    "#  Extract information through regular expressions"
   ]
  },
  {
   "cell_type": "markdown",
   "metadata": {},
   "source": [
    "There is two important information in the ‘helpful’ column, the one is the total number of people who commented on whether the review was helpful, the other is the total percentage of people who scored the reviews. In this step, these two variables are separated by adopting the method of regular expression. Python provides libraries about regular expressions’, as a result, import the ‘re’ to process the data. The specific operation is shown in this webpage: https://docs.python.org/3/library/re.html.\n"
   ]
  },
  {
   "cell_type": "code",
   "execution_count": 14,
   "metadata": {},
   "outputs": [],
   "source": [
    "import re"
   ]
  },
  {
   "cell_type": "markdown",
   "metadata": {},
   "source": [
    "According to the data set, the number of people and the percentage do not exceed four digits. Therefore, a function can be set that can handle both variables at the same time. Because the original format is a string, using data.map method to change to the integer format."
   ]
  },
  {
   "cell_type": "code",
   "execution_count": 15,
   "metadata": {},
   "outputs": [],
   "source": [
    "#set up a function to filter the variables\n",
    "def num_help(x,y):\n",
    "    z=[]\n",
    "#find out the location of the values and put into the list\n",
    "    for e in x:\n",
    "        for i in range(len(e)):\n",
    "            if e[i]== y:\n",
    "                z.append(e[i-4]+e[i-3]+e[i-2]+e[i-1])\n",
    "#change list to str\n",
    "    str_x=\",\".join(z)\n",
    "#find out the values we want\n",
    "    results =re.findall(r\"\\d+\\.?\\d*\",str_x)\n",
    "#change str to int\n",
    "    results = list(map(int, results))\n",
    "    return (results)\n"
   ]
  },
  {
   "cell_type": "markdown",
   "metadata": {},
   "source": [
    "At the same time, the ‘posted’ date is accurate to the day, this step aims to turn the date into a date in years. The method is the same as the helpful method (Year is expressed in four digits). Because the function was established in the previous step, this step only needs to call back function."
   ]
  },
  {
   "cell_type": "code",
   "execution_count": 16,
   "metadata": {},
   "outputs": [],
   "source": [
    "#the year of the posted date\n",
    "data_help['posted']=num_help(data_help['posted'],'.')\n",
    "\n",
    "#set up the new coloums to get the count of the percentage of helpfu\n",
    "data_help['%_help']=num_help(data_help['helpful'],'%')\n",
    "\n",
    "#the total people for the helful\n",
    "data_help['num_help'] =num_help(data_help['helpful'],'p')"
   ]
  },
  {
   "attachments": {
    "image.png": {
     "image/png": "[encoded data removed]"
    }
   },
   "cell_type": "markdown",
   "metadata": {},
   "source": [
    "The maining of new columns are as floolwes: ![image.png](attachment:image.png)"
   ]
  },
  {
   "cell_type": "code",
   "execution_count": 17,
   "metadata": {},
   "outputs": [
    {
     "data": {
      "text/html": [
       "<div>\n",
       "<style scoped>\n",
       "    .dataframe tbody tr th:only-of-type {\n",
       "        vertical-align: middle;\n",
       "    }\n",
       "\n",
       "    .dataframe tbody tr th {\n",
       "        vertical-align: top;\n",
       "    }\n",
       "\n",
       "    .dataframe thead th {\n",
       "        text-align: right;\n",
       "    }\n",
       "</style>\n",
       "<table border=\"1\" class=\"dataframe\">\n",
       "  <thead>\n",
       "    <tr style=\"text-align: right;\">\n",
       "      <th></th>\n",
       "      <th>posted</th>\n",
       "      <th>helpful</th>\n",
       "      <th>recommend</th>\n",
       "      <th>review</th>\n",
       "      <th>%_help</th>\n",
       "      <th>num_help</th>\n",
       "    </tr>\n",
       "  </thead>\n",
       "  <tbody>\n",
       "    <tr>\n",
       "      <td>3</td>\n",
       "      <td>2014</td>\n",
       "      <td>15 of 20 people (75%) found this review helpful</td>\n",
       "      <td>True</td>\n",
       "      <td>I know what you think when you see this title ...</td>\n",
       "      <td>75</td>\n",
       "      <td>20</td>\n",
       "    </tr>\n",
       "    <tr>\n",
       "      <td>4</td>\n",
       "      <td>2013</td>\n",
       "      <td>0 of 1 people (0%) found this review helpful</td>\n",
       "      <td>True</td>\n",
       "      <td>For a simple (it's actually not all that simpl...</td>\n",
       "      <td>0</td>\n",
       "      <td>1</td>\n",
       "    </tr>\n",
       "    <tr>\n",
       "      <td>5</td>\n",
       "      <td>2013</td>\n",
       "      <td>1 of 4 people (25%) found this review helpful</td>\n",
       "      <td>True</td>\n",
       "      <td>Very fun little game to play when your bored o...</td>\n",
       "      <td>25</td>\n",
       "      <td>4</td>\n",
       "    </tr>\n",
       "    <tr>\n",
       "      <td>12</td>\n",
       "      <td>2013</td>\n",
       "      <td>2 of 2 people (100%) found this review helpful</td>\n",
       "      <td>True</td>\n",
       "      <td>This game... is so fun. The fight sequences ha...</td>\n",
       "      <td>100</td>\n",
       "      <td>2</td>\n",
       "    </tr>\n",
       "    <tr>\n",
       "      <td>13</td>\n",
       "      <td>2012</td>\n",
       "      <td>1 of 1 people (100%) found this review helpful</td>\n",
       "      <td>True</td>\n",
       "      <td>Really Really Really Great Game, very good sto...</td>\n",
       "      <td>100</td>\n",
       "      <td>1</td>\n",
       "    </tr>\n",
       "  </tbody>\n",
       "</table>\n",
       "</div>"
      ],
      "text/plain": [
       "    posted                                          helpful  recommend  \\\n",
       "3     2014  15 of 20 people (75%) found this review helpful       True   \n",
       "4     2013     0 of 1 people (0%) found this review helpful       True   \n",
       "5     2013    1 of 4 people (25%) found this review helpful       True   \n",
       "12    2013   2 of 2 people (100%) found this review helpful       True   \n",
       "13    2012   1 of 1 people (100%) found this review helpful       True   \n",
       "\n",
       "                                               review  %_help  num_help  \n",
       "3   I know what you think when you see this title ...      75        20  \n",
       "4   For a simple (it's actually not all that simpl...       0         1  \n",
       "5   Very fun little game to play when your bored o...      25         4  \n",
       "12  This game... is so fun. The fight sequences ha...     100         2  \n",
       "13  Really Really Really Great Game, very good sto...     100         1  "
      ]
     },
     "execution_count": 17,
     "metadata": {},
     "output_type": "execute_result"
    }
   ],
   "source": [
    "#test the data\n",
    "data_help.head()"
   ]
  },
  {
   "cell_type": "code",
   "execution_count": 18,
   "metadata": {},
   "outputs": [
    {
     "data": {
      "text/plain": [
       "2014    10920\n",
       "2015     9069\n",
       "2013     2927\n",
       "2012      312\n",
       "12        222\n",
       "24        214\n",
       "3         213\n",
       "17        206\n",
       "6         206\n",
       "4         204\n",
       "28        204\n",
       "14        202\n",
       "27        199\n",
       "5         197\n",
       "16        197\n",
       "1         194\n",
       "13        194\n",
       "25        193\n",
       "29        193\n",
       "2         192\n",
       "18        187\n",
       "23        186\n",
       "8         185\n",
       "26        185\n",
       "19        184\n",
       "11        182\n",
       "20        179\n",
       "9         178\n",
       "30        171\n",
       "7         171\n",
       "15        169\n",
       "21        165\n",
       "22        165\n",
       "10        157\n",
       "31        102\n",
       "2011       98\n",
       "2010       15\n",
       "Name: posted, dtype: int64"
      ]
     },
     "execution_count": 18,
     "metadata": {},
     "output_type": "execute_result"
    }
   ],
   "source": [
    "#test the data\n",
    "data_help.posted.value_counts()"
   ]
  },
  {
   "cell_type": "markdown",
   "metadata": {},
   "source": [
    "As the value_counts shows, some data does not show the year, but the date. Since the data showing the date is calculated for the current year, the year is not added. The data this analysis used is from 2018, so change the date to 2018."
   ]
  },
  {
   "cell_type": "code",
   "execution_count": 19,
   "metadata": {},
   "outputs": [],
   "source": [
    "#because just use for loop of dataframe is too slow, we put them to the list, and add them to the dataframe when data was cleaning\n",
    "data_posted = np.array(data_help['posted'])\n",
    "posted=data_posted.tolist()\n",
    "for i in range(len(posted)):\n",
    "#find out the location \n",
    "    if posted[i] <2000:\n",
    "        posted[i]=2018\n",
    "\n",
    "#push the new data to dataframe\n",
    "data_help['posted']=posted"
   ]
  },
  {
   "cell_type": "code",
   "execution_count": 20,
   "metadata": {},
   "outputs": [
    {
     "data": {
      "text/plain": [
       "2014    10920\n",
       "2015     9069\n",
       "2018     5796\n",
       "2013     2927\n",
       "2012      312\n",
       "2011       98\n",
       "2010       15\n",
       "Name: posted, dtype: int64"
      ]
     },
     "execution_count": 20,
     "metadata": {},
     "output_type": "execute_result"
    }
   ],
   "source": [
    "#test data\n",
    "data_help.posted.value_counts()"
   ]
  },
  {
   "cell_type": "markdown",
   "metadata": {},
   "source": [
    "# Preliminary data processing of decision tree"
   ]
  },
  {
   "cell_type": "markdown",
   "metadata": {},
   "source": [
    "To consider what kind of reviews are more valuable, delete reviews that people think are not very helpful. The decision tree method is used in this step. "
   ]
  },
  {
   "cell_type": "code",
   "execution_count": 21,
   "metadata": {},
   "outputs": [],
   "source": [
    "#cut down the data\n",
    "data_help=data_help.loc[data_help['%_help']>=50]\n",
    "data_help=data_help.loc[data_help['num_help']>=5]\n",
    "\n",
    "#drop the origional helpful column\n",
    "data_help=data_help.drop('helpful',axis=1)"
   ]
  },
  {
   "cell_type": "code",
   "execution_count": 22,
   "metadata": {},
   "outputs": [
    {
     "data": {
      "text/plain": [
       "posted       4190\n",
       "recommend    4190\n",
       "review       4190\n",
       "%_help       4190\n",
       "num_help     4190\n",
       "dtype: int64"
      ]
     },
     "execution_count": 22,
     "metadata": {},
     "output_type": "execute_result"
    }
   ],
   "source": [
    "data_help.count()"
   ]
  },
  {
   "cell_type": "markdown",
   "metadata": {},
   "source": [
    "Set up an new dataframe to build up the decision tree"
   ]
  },
  {
   "cell_type": "code",
   "execution_count": 23,
   "metadata": {},
   "outputs": [],
   "source": [
    "data_tree=data_help.drop(['review','posted'],axis=1)"
   ]
  },
  {
   "cell_type": "code",
   "execution_count": 24,
   "metadata": {},
   "outputs": [
    {
     "data": {
      "text/html": [
       "<div>\n",
       "<style scoped>\n",
       "    .dataframe tbody tr th:only-of-type {\n",
       "        vertical-align: middle;\n",
       "    }\n",
       "\n",
       "    .dataframe tbody tr th {\n",
       "        vertical-align: top;\n",
       "    }\n",
       "\n",
       "    .dataframe thead th {\n",
       "        text-align: right;\n",
       "    }\n",
       "</style>\n",
       "<table border=\"1\" class=\"dataframe\">\n",
       "  <thead>\n",
       "    <tr style=\"text-align: right;\">\n",
       "      <th></th>\n",
       "      <th>recommend</th>\n",
       "      <th>%_help</th>\n",
       "      <th>num_help</th>\n",
       "    </tr>\n",
       "  </thead>\n",
       "  <tbody>\n",
       "    <tr>\n",
       "      <td>3</td>\n",
       "      <td>True</td>\n",
       "      <td>75</td>\n",
       "      <td>20</td>\n",
       "    </tr>\n",
       "    <tr>\n",
       "      <td>18</td>\n",
       "      <td>True</td>\n",
       "      <td>81</td>\n",
       "      <td>43</td>\n",
       "    </tr>\n",
       "    <tr>\n",
       "      <td>19</td>\n",
       "      <td>True</td>\n",
       "      <td>75</td>\n",
       "      <td>16</td>\n",
       "    </tr>\n",
       "    <tr>\n",
       "      <td>20</td>\n",
       "      <td>True</td>\n",
       "      <td>100</td>\n",
       "      <td>5</td>\n",
       "    </tr>\n",
       "    <tr>\n",
       "      <td>22</td>\n",
       "      <td>True</td>\n",
       "      <td>88</td>\n",
       "      <td>8</td>\n",
       "    </tr>\n",
       "  </tbody>\n",
       "</table>\n",
       "</div>"
      ],
      "text/plain": [
       "    recommend  %_help  num_help\n",
       "3        True      75        20\n",
       "18       True      81        43\n",
       "19       True      75        16\n",
       "20       True     100         5\n",
       "22       True      88         8"
      ]
     },
     "execution_count": 24,
     "metadata": {},
     "output_type": "execute_result"
    }
   ],
   "source": [
    "data_tree.head()"
   ]
  },
  {
   "cell_type": "markdown",
   "metadata": {},
   "source": [
    "Cut down the column to set up the decision tree modle. In this step, to balance the recommend true or false value, some selection were made in dataframe."
   ]
  },
  {
   "cell_type": "code",
   "execution_count": 25,
   "metadata": {},
   "outputs": [],
   "source": [
    "data_test1=data_tree.loc[data_tree['recommend']==True]\n",
    "data_test1=data_test1.iloc[0:20]"
   ]
  },
  {
   "cell_type": "code",
   "execution_count": 26,
   "metadata": {},
   "outputs": [],
   "source": [
    "data_test2=data_tree.loc[data_tree['recommend']==False]\n",
    "data_test2=data_test2.iloc[0:20]"
   ]
  },
  {
   "cell_type": "code",
   "execution_count": 27,
   "metadata": {},
   "outputs": [],
   "source": [
    "data_train =data_test1.iloc[0:10].append(data_test2[0:10])"
   ]
  },
  {
   "cell_type": "code",
   "execution_count": 28,
   "metadata": {},
   "outputs": [],
   "source": [
    "data_test=data_test1.iloc[10:20].append(data_test2[10:20])"
   ]
  },
  {
   "attachments": {
    "image.png": {
     "image/png": "[encoded data removed]"
    }
   },
   "cell_type": "markdown",
   "metadata": {},
   "source": [
    "Give the overall recommend of each review, 1 means overall recommend, 0 means overall not recommend. The criterion is as followes:![image.png](attachment:image.png)"
   ]
  },
  {
   "cell_type": "code",
   "execution_count": 29,
   "metadata": {},
   "outputs": [],
   "source": [
    "#train overall data\n",
    "overall_1=[1,1,1,1,1,1,0,0,1,1,0,0,0,0,1,0,1,0,1,1]\n",
    "\n",
    "#test overall data\n",
    "overall_2=[0,0,1,1,1,1,0,0,0,0,0,0,1,1,1,1,1,0,0,1]"
   ]
  },
  {
   "cell_type": "code",
   "execution_count": 30,
   "metadata": {},
   "outputs": [],
   "source": [
    "data_train['overall']=overall_1"
   ]
  },
  {
   "cell_type": "code",
   "execution_count": 31,
   "metadata": {},
   "outputs": [],
   "source": [
    "data_test['overall']=overall_2"
   ]
  },
  {
   "cell_type": "markdown",
   "metadata": {},
   "source": [
    "# Build a decision tree"
   ]
  },
  {
   "cell_type": "markdown",
   "metadata": {},
   "source": [
    "A decision tree is a basic classification and regression method with a tree structure of nodes and directed edges. The nodes have internal nodes and leaf nodes. The internal nodes represent a feature or attribute, and the leaf nodes represent a class. There are three algorithms for feature selection of decision trees: Gini coefficient, information entropy, and information gain.\n",
    "\n",
    "Gini coefficient reflects the probability that randomly selected samples in the data set are misclassified.\n",
    "\n",
    "Information entropy reflects the uncertainty of the sample, the greater the information entropy, the greater the uncertainty of the sample.\n",
    "\n",
    "Information gain is based on information entropy, it calculated the difference between the information entropy of the parent node and the information entropy of the child node.\n",
    "\n",
    "It is worth noting that, when using information entropy, Scikit-learn calculates the information gain.\n",
    "\n",
    "Information entropy (in Scikit-learn) is more sensitive to impurity than the Gini Coefficient, as a result when information entropy is used as an indicator, the growth of the decision tree will be ‘finer’. However, for high-dimensional data or noisy data, information entropy is easy to overfit. Because there are fewer variables to make decisions in this analysis, information entropy is used.\n",
    "\n",
    "Build the model by using scikit-learn, and test the accuracy of the model. The introduction is as follows: https://scikit-learn.org/stable/modules/generated/sklearn.tree.DecisionTreeClassifier.html"
   ]
  },
  {
   "cell_type": "code",
   "execution_count": 32,
   "metadata": {},
   "outputs": [
    {
     "name": "stdout",
     "output_type": "stream",
     "text": [
      "0.9\n"
     ]
    }
   ],
   "source": [
    "from sklearn.tree import DecisionTreeClassifier as DTC\n",
    "\n",
    "#train the model\n",
    "x_train = data_train.iloc[:, 0:3]\n",
    "y_train = data_train.iloc[:, 3]\n",
    "\n",
    "#test data \n",
    "x_test = data_test.iloc[:, 0:3]\n",
    "y_test = data_test.iloc[:, 3]\n",
    "\n",
    "#using entropy to measure\n",
    "clf = DTC(criterion='entropy') \n",
    "clf.fit(x_train, y_train)\n",
    "\n",
    "#get the purity score\n",
    "score=clf.score(x_test, y_test)\n",
    "print(score )\n"
   ]
  },
  {
   "cell_type": "markdown",
   "metadata": {},
   "source": [
    "The test purity was 0.9. In Scikit-learn, its default branching method is ‘best’-that is, the optimal solution which leads to the problem of overfitting. To solve the problem, the ‘random’ method is used to process branches. After that,  pruning the branches. The issue of max_depth is involved here. The depth value from 1 to 10 is chosen to test the best depth value. (If the image does not appear, please run it again.)"
   ]
  },
  {
   "cell_type": "code",
   "execution_count": 33,
   "metadata": {},
   "outputs": [
    {
     "data": {
      "text/plain": [
       "<Figure size 1600x640 with 1 Axes>"
      ]
     },
     "metadata": {},
     "output_type": "display_data"
    }
   ],
   "source": [
    "#test the data to find wheteher there has better soultion\n",
    "test=[]\n",
    "\n",
    "for i in range(10):\n",
    "#get the range of the max_depth in decision tree\n",
    "    clf = DTC(criterion=\"entropy\",random_state=2,splitter=\"random\",max_depth=i+1)\n",
    "#fit the value\n",
    "    clf.fit(x_train,y_train)\n",
    "    score=clf.score(x_test,y_test)\n",
    "#change the score to the list\n",
    "    test.append(score)\n",
    "\n",
    "import matplotlib.pyplot as plt\n",
    "#plot the figure\n",
    "plt.figure(figsize=(20,8),dpi=80)\n",
    "plt.plot(range(1,11),test)\n",
    "plt.show()\n"
   ]
  },
  {
   "cell_type": "markdown",
   "metadata": {},
   "source": [
    "As the graph shows, when the max_depth is 4, purity is the highest, which is 0.05 higher than 0.9. This model is used to process all the review data to get the value of overall recommend (1 for overall recommend and 0 for overall not recommend). "
   ]
  },
  {
   "cell_type": "code",
   "execution_count": 34,
   "metadata": {},
   "outputs": [
    {
     "name": "stdout",
     "output_type": "stream",
     "text": [
      "0.95\n"
     ]
    }
   ],
   "source": [
    "clf_after = DTC(criterion='entropy',random_state=2,splitter=\"random\",max_depth=4)  \n",
    "clf_after.fit(x_train, y_train)\n",
    "score=clf_after.score(x_test, y_test)\n",
    "print(score )"
   ]
  },
  {
   "cell_type": "markdown",
   "metadata": {},
   "source": [
    "Demonstrates the decision process of the decision tree."
   ]
  },
  {
   "cell_type": "code",
   "execution_count": 35,
   "metadata": {},
   "outputs": [
    {
     "name": "stdout",
     "output_type": "stream",
     "text": [
      "|--- num_help <= 18.59\n",
      "|   |--- recommend <= 0.76\n",
      "|   |   |--- num_help <= 9.08\n",
      "|   |   |   |--- class: 0\n",
      "|   |   |--- num_help >  9.08\n",
      "|   |   |   |--- %_help <= 64.77\n",
      "|   |   |   |   |--- class: 0\n",
      "|   |   |   |--- %_help >  64.77\n",
      "|   |   |   |   |--- class: 1\n",
      "|   |--- recommend >  0.76\n",
      "|   |   |--- %_help <= 68.96\n",
      "|   |   |   |--- class: 0\n",
      "|   |   |--- %_help >  68.96\n",
      "|   |   |   |--- class: 1\n",
      "|--- num_help >  18.59\n",
      "|   |--- class: 1\n",
      "\n"
     ]
    }
   ],
   "source": [
    "from sklearn.tree import export_text\n",
    "tree_rules = export_text(clf_after, feature_names=['recommend','%_help','num_help'])\n",
    "print(tree_rules)"
   ]
  },
  {
   "cell_type": "markdown",
   "metadata": {},
   "source": [
    "Use the trained decision tree to classify all the data."
   ]
  },
  {
   "cell_type": "code",
   "execution_count": 36,
   "metadata": {},
   "outputs": [],
   "source": [
    "#get the value \n",
    "x_tree=data_tree.iloc[:, 0:3]\n",
    "\n",
    "#do the decision tree\n",
    "overall=clf_after.predict(x_tree)\n",
    "\n",
    "#put the overall variables to the overall column\n",
    "data_help['overall']=overall"
   ]
  },
  {
   "cell_type": "code",
   "execution_count": 37,
   "metadata": {},
   "outputs": [
    {
     "data": {
      "text/html": [
       "<div>\n",
       "<style scoped>\n",
       "    .dataframe tbody tr th:only-of-type {\n",
       "        vertical-align: middle;\n",
       "    }\n",
       "\n",
       "    .dataframe tbody tr th {\n",
       "        vertical-align: top;\n",
       "    }\n",
       "\n",
       "    .dataframe thead th {\n",
       "        text-align: right;\n",
       "    }\n",
       "</style>\n",
       "<table border=\"1\" class=\"dataframe\">\n",
       "  <thead>\n",
       "    <tr style=\"text-align: right;\">\n",
       "      <th></th>\n",
       "      <th>posted</th>\n",
       "      <th>recommend</th>\n",
       "      <th>review</th>\n",
       "      <th>%_help</th>\n",
       "      <th>num_help</th>\n",
       "      <th>overall</th>\n",
       "    </tr>\n",
       "  </thead>\n",
       "  <tbody>\n",
       "    <tr>\n",
       "      <td>3</td>\n",
       "      <td>2014</td>\n",
       "      <td>True</td>\n",
       "      <td>I know what you think when you see this title ...</td>\n",
       "      <td>75</td>\n",
       "      <td>20</td>\n",
       "      <td>1</td>\n",
       "    </tr>\n",
       "    <tr>\n",
       "      <td>18</td>\n",
       "      <td>2014</td>\n",
       "      <td>True</td>\n",
       "      <td>Git gud</td>\n",
       "      <td>81</td>\n",
       "      <td>43</td>\n",
       "      <td>1</td>\n",
       "    </tr>\n",
       "    <tr>\n",
       "      <td>19</td>\n",
       "      <td>2013</td>\n",
       "      <td>True</td>\n",
       "      <td>It's like Terraria, you play for 9 hours strai...</td>\n",
       "      <td>75</td>\n",
       "      <td>16</td>\n",
       "      <td>1</td>\n",
       "    </tr>\n",
       "    <tr>\n",
       "      <td>20</td>\n",
       "      <td>2014</td>\n",
       "      <td>True</td>\n",
       "      <td>Hold shift to win, Hold CTRL to lose.</td>\n",
       "      <td>100</td>\n",
       "      <td>5</td>\n",
       "      <td>1</td>\n",
       "    </tr>\n",
       "    <tr>\n",
       "      <td>22</td>\n",
       "      <td>2014</td>\n",
       "      <td>True</td>\n",
       "      <td>This game is Marvellous.</td>\n",
       "      <td>88</td>\n",
       "      <td>8</td>\n",
       "      <td>1</td>\n",
       "    </tr>\n",
       "  </tbody>\n",
       "</table>\n",
       "</div>"
      ],
      "text/plain": [
       "    posted  recommend                                             review  \\\n",
       "3     2014       True  I know what you think when you see this title ...   \n",
       "18    2014       True                                            Git gud   \n",
       "19    2013       True  It's like Terraria, you play for 9 hours strai...   \n",
       "20    2014       True              Hold shift to win, Hold CTRL to lose.   \n",
       "22    2014       True                           This game is Marvellous.   \n",
       "\n",
       "    %_help  num_help  overall  \n",
       "3       75        20        1  \n",
       "18      81        43        1  \n",
       "19      75        16        1  \n",
       "20     100         5        1  \n",
       "22      88         8        1  "
      ]
     },
     "execution_count": 37,
     "metadata": {},
     "output_type": "execute_result"
    }
   ],
   "source": [
    "data_help.head()"
   ]
  },
  {
   "cell_type": "markdown",
   "metadata": {},
   "source": [
    "# Limitation of the decision tree"
   ]
  },
  {
   "cell_type": "markdown",
   "metadata": {},
   "source": [
    "In constructing the decision tree, because the overall recommendation in the early stage requires manual classification, including the training set and the test set, only 40 values were selected. Even if the previous test has higher accuracy (0.95), in such a huge database, it is likely that the accuracy of the classification cannot reach the expected 0.95 because the sample number in the previous period is too small. Random forests are considered using to improve accuracy, but because of the large amount of data, which leads to large calculations and slow speed, this method is skipped."
   ]
  },
  {
   "cell_type": "markdown",
   "metadata": {},
   "source": [
    "# Further data cleaning "
   ]
  },
  {
   "cell_type": "markdown",
   "metadata": {},
   "source": [
    "Because what this analysis wants here is the most useful review, remove the overall not recommend data. Since the earliest year of the data set dates back to 2011, considering the fast update rate of the game market, some reviews are too old here are not of the reference value, so only the data of the last five years (2014-2018) are selected."
   ]
  },
  {
   "cell_type": "code",
   "execution_count": 38,
   "metadata": {},
   "outputs": [],
   "source": [
    "#remove the overall not recommend data\n",
    "data_help=data_help.loc[data_help['overall']==1]\n",
    "\n",
    "#select data with reference value\n",
    "data_help=data_help.loc[data_help['posted']>2013]"
   ]
  },
  {
   "cell_type": "code",
   "execution_count": 39,
   "metadata": {},
   "outputs": [
    {
     "data": {
      "text/plain": [
       "posted       2296\n",
       "recommend    2296\n",
       "review       2296\n",
       "%_help       2296\n",
       "num_help     2296\n",
       "overall      2296\n",
       "dtype: int64"
      ]
     },
     "execution_count": 39,
     "metadata": {},
     "output_type": "execute_result"
    }
   ],
   "source": [
    "data_help.count()"
   ]
  },
  {
   "cell_type": "markdown",
   "metadata": {},
   "source": [
    "# Keyword extraction"
   ]
  },
  {
   "cell_type": "markdown",
   "metadata": {},
   "source": [
    "There are three commonly used keyword extraction methods: The boolean model, the TF-IDF model, Word vector model.\n",
    "\n",
    "Boolean model is based on the Boolean operation of the collection, the advantage is that the efficiency is high, compared with the other two methods, the speed of calculation is faster. But the model is too simple to effectively sort different documents, thus, the keyword extraction effect is not good.\n",
    "\n",
    "The TF-IDF model uses a common weighted counting method to calculate the word frequency to obtain keywords. Comparing with the Boolean model, the keyword extraction is more effective, and the speed of the calculation is faster than the Word vector model. However, because the importance of word frequency may not be related to word frequency itself (e.g.: I, the), the result may have some deviations. In addition, the sequence of the word is not considered in this method.\n",
    "\n",
    "Word vector model is a model that uses word-to-word similarities and differences to encode word vectors. The accuracy of the word vector model is the highest of the three methods, and the sequence of the word is considered in this method. However, the vector dimension required for a word is generally between 50-300 dimensions, which means it requires a large amount of computation. As a result, the calculation speed is slow. On the other hand, the Gensim corpus needs to be installed which is not included in the anaconda initialization library.\n",
    "\n",
    "The TF-IDF model is used in this analysis. The reason is that in this step, keywords are only used to perform text classification processing. Therefore, the sequence of the word is not a very important issue. Simultaneously, in order to reduce the amount of calculation, the TF-IDF method is used.\n",
    "\n",
    "Before the keyword extraction, in order to avoid the above-mentioned problem that the importance of the word frequency may not be related to the word frequency itself, here is a preliminary cleaning of the reviews: the removal of special symbols and the removal of stop words."
   ]
  },
  {
   "cell_type": "markdown",
   "metadata": {},
   "source": [
    "# Text  preprocessing"
   ]
  },
  {
   "cell_type": "code",
   "execution_count": 40,
   "metadata": {},
   "outputs": [],
   "source": [
    "#build up a function\n",
    "def df_list (x):\n",
    "    #get the new clean text data, change them to list\n",
    "    clean_review = np.array(x)\n",
    "    clean_review = clean_review.tolist()\n",
    "    return(clean_review)"
   ]
  },
  {
   "cell_type": "code",
   "execution_count": 41,
   "metadata": {
    "scrolled": true
   },
   "outputs": [],
   "source": [
    "#select the data to be processed into the list\n",
    "list_1=df_list(data_help['review'])"
   ]
  },
  {
   "cell_type": "markdown",
   "metadata": {},
   "source": [
    "Firstly, remove the special symbols, the method used here is still regularization of words.The second step is to segment the sentence. In English, there are spaces between each word, so use split () to split the sentence, and put the comment into the list, each word is stored in the list in the form of string."
   ]
  },
  {
   "cell_type": "code",
   "execution_count": 42,
   "metadata": {
    "scrolled": true
   },
   "outputs": [],
   "source": [
    "for i in range(len(list_1)):\n",
    "    #convert all English characters to lowercase\n",
    "    list_1[i]=list_1[i].lower()\n",
    "    \n",
    "    #Filter useful text\n",
    "    list_1[i]=re.sub(u\"([^\\u0041-\\u005a\\u0061-\\u007a])\",\" \",list_1[i])\n",
    "    \n",
    "    #Participle\n",
    "    list_1[i]= list_1[i].split()"
   ]
  },
  {
   "cell_type": "code",
   "execution_count": 43,
   "metadata": {},
   "outputs": [
    {
     "name": "stdout",
     "output_type": "stream",
     "text": [
      "['i', 'know', 'what', 'you', 'think', 'when', 'you', 'see', 'this', 'title', 'barbie', 'dreamhouse', 'party', 'but', 'do', 'not', 'be', 'intimidated', 'by', 'it', 's', 'title', 'this', 'is', 'easily', 'one', 'of', 'my', 'gotys', 'you', 'don', 't', 'get', 'any', 'of', 'that', 'cliche', 'game', 'mechanics', 'that', 'all', 'the', 'latest', 'games', 'have', 'this', 'is', 'simply', 'good', 'core', 'gameplay', 'yes', 'you', 'can', 't', 'noscope', 'your', 'friends', 'but', 'what', 'you', 'can', 'do', 'is', 'show', 'them', 'up', 'with', 'your', 'bad', 'dance', 'moves', 'and', 'put', 'them', 'to', 'shame', 'as', 'you', 'show', 'them', 'what', 'true', 'fashion', 'and', 'color', 'combinations', 'are', 'i', 'know', 'this', 'game', 'says', 'for', 'kids', 'but', 'this', 'is', 'easily', 'for', 'any', 'age', 'range', 'and', 'any', 'age', 'will', 'have', 'a', 'blast', 'playing', 'this']\n"
     ]
    }
   ],
   "source": [
    "#test the data\n",
    "print(list_1[0])"
   ]
  },
  {
   "cell_type": "markdown",
   "metadata": {},
   "source": [
    "The third step is to remove stop words. The NLTK package can handle these problems well. However, anaconda does not have this library, it needs to be installed separately, so I typed a stop word list. The stop word list refers to the stop word vocabulary in the NLTK package.(online  stop words source: https://gist.github.com/sebleier/554280)"
   ]
  },
  {
   "cell_type": "code",
   "execution_count": 44,
   "metadata": {},
   "outputs": [],
   "source": [
    "stoplist=[\"i\", \"me\", \"my\", \"myself\", \"we\", \"our\", \"ours\", \"ourselves\", \"you\", \"your\", \"yours\", \"yourself\", \"yourselves\", \"he\", \"him\", \"his\", \"himself\", \"she\", \"her\", \"hers\", \"herself\", \"it\", \"its\", \"itself\", \"they\", \"them\", \"their\", \"theirs\", \"themselves\", \"what\", \"which\", \"who\", \"whom\", \"this\", \"that\", \"these\", \"those\", \"am\", \"is\", \"are\", \"was\", \"were\", \"be\", \"been\", \"being\", \"have\", \"has\", \"had\", \"having\", \"do\", \"does\", \"did\", \"doing\", \"a\", \"an\", \"the\", \"and\", \"but\", \"if\", \"or\", \"because\", \"as\", \"until\", \"while\", \"of\", \"at\", \"by\", \"for\", \"with\", \"about\", \"against\", \"between\", \"into\", \"through\", \"during\", \"before\", \"after\", \"above\", \"below\", \"to\", \"from\", \"up\", \"down\", \"in\", \"out\", \"on\", \"off\", \"over\", \"under\", \"again\", \"further\", \"then\", \"once\", \"here\", \"there\", \"when\", \"where\", \"why\", \"how\", \"all\", \"any\", \"both\", \"each\", \"few\", \"more\", \"most\", \"other\", \"some\", \"such\", \"no\", \"nor\", \"not\", \"only\", \"own\", \"same\", \"so\", \"than\", \"too\", \"very\", \"s\", \"t\", \"can\", \"will\", \"just\", \"don\", \"should\", \"now\"]"
   ]
  },
  {
   "cell_type": "code",
   "execution_count": 45,
   "metadata": {},
   "outputs": [],
   "source": [
    "#remove stop words and put the clean data to a new list\n",
    "text = [[i for i in words if i not in stoplist]for words in list_1]"
   ]
  },
  {
   "cell_type": "code",
   "execution_count": 46,
   "metadata": {},
   "outputs": [
    {
     "name": "stdout",
     "output_type": "stream",
     "text": [
      "['know', 'think', 'see', 'title', 'barbie', 'dreamhouse', 'party', 'intimidated', 'title', 'easily', 'one', 'gotys', 'get', 'cliche', 'game', 'mechanics', 'latest', 'games', 'simply', 'good', 'core', 'gameplay', 'yes', 'noscope', 'friends', 'show', 'bad', 'dance', 'moves', 'put', 'shame', 'show', 'true', 'fashion', 'color', 'combinations', 'know', 'game', 'says', 'kids', 'easily', 'age', 'range', 'age', 'blast', 'playing']\n"
     ]
    }
   ],
   "source": [
    "#test the data\n",
    "print(text[0])"
   ]
  },
  {
   "cell_type": "code",
   "execution_count": 47,
   "metadata": {},
   "outputs": [],
   "source": [
    "#put them to the new cloumn\n",
    "data_help['text']=text"
   ]
  },
  {
   "cell_type": "markdown",
   "metadata": {},
   "source": [
    "After deleting the stop words, put cleaning reviews as a new column in the data frame and delete some meaningless cleaning reviews (less than or equal to 6 core vocabulary). The reason is that fewer core words are not enough to form a complete sentence to express the evaluation of the game, for example: ‘very good’, it just expresses praise for the game, but the review itself does not produce value.\n",
    "\n",
    "The values here can be understood as reviews that allow people to know more about this game. In this process, because some useless rows were directly deleted in the previous data processing, the index of the data frame does not start from 1. When using the for loop method to filter words, some null values will appear. In order to run the function, reset_index processing is required - rebuild the index of the data frame and convert it into an index starting from 1."
   ]
  },
  {
   "cell_type": "code",
   "execution_count": 48,
   "metadata": {},
   "outputs": [],
   "source": [
    "#reset index\n",
    "data_help = data_help.reset_index()"
   ]
  },
  {
   "cell_type": "code",
   "execution_count": 49,
   "metadata": {},
   "outputs": [],
   "source": [
    "#eliminate meaningless evaluations \n",
    "for i,e in enumerate(data_help['text']):\n",
    "    if len (e)<=6:\n",
    "        data_help=data_help.drop(labels=[i],axis=0)"
   ]
  },
  {
   "cell_type": "code",
   "execution_count": 50,
   "metadata": {},
   "outputs": [
    {
     "data": {
      "text/html": [
       "<div>\n",
       "<style scoped>\n",
       "    .dataframe tbody tr th:only-of-type {\n",
       "        vertical-align: middle;\n",
       "    }\n",
       "\n",
       "    .dataframe tbody tr th {\n",
       "        vertical-align: top;\n",
       "    }\n",
       "\n",
       "    .dataframe thead th {\n",
       "        text-align: right;\n",
       "    }\n",
       "</style>\n",
       "<table border=\"1\" class=\"dataframe\">\n",
       "  <thead>\n",
       "    <tr style=\"text-align: right;\">\n",
       "      <th></th>\n",
       "      <th>index</th>\n",
       "      <th>posted</th>\n",
       "      <th>recommend</th>\n",
       "      <th>review</th>\n",
       "      <th>%_help</th>\n",
       "      <th>num_help</th>\n",
       "      <th>overall</th>\n",
       "      <th>text</th>\n",
       "    </tr>\n",
       "  </thead>\n",
       "  <tbody>\n",
       "    <tr>\n",
       "      <td>0</td>\n",
       "      <td>3</td>\n",
       "      <td>2014</td>\n",
       "      <td>True</td>\n",
       "      <td>I know what you think when you see this title ...</td>\n",
       "      <td>75</td>\n",
       "      <td>20</td>\n",
       "      <td>1</td>\n",
       "      <td>[know, think, see, title, barbie, dreamhouse, ...</td>\n",
       "    </tr>\n",
       "    <tr>\n",
       "      <td>4</td>\n",
       "      <td>49</td>\n",
       "      <td>2015</td>\n",
       "      <td>True</td>\n",
       "      <td>I'm going to keep this somewhat short and swee...</td>\n",
       "      <td>90</td>\n",
       "      <td>31</td>\n",
       "      <td>1</td>\n",
       "      <td>[m, going, keep, somewhat, short, sweetat, tim...</td>\n",
       "    </tr>\n",
       "    <tr>\n",
       "      <td>5</td>\n",
       "      <td>72</td>\n",
       "      <td>2014</td>\n",
       "      <td>True</td>\n",
       "      <td>Love it. Love it. And since I can read cyrilli...</td>\n",
       "      <td>66</td>\n",
       "      <td>41</td>\n",
       "      <td>1</td>\n",
       "      <td>[love, love, since, read, cyrillic, script, pl...</td>\n",
       "    </tr>\n",
       "    <tr>\n",
       "      <td>6</td>\n",
       "      <td>73</td>\n",
       "      <td>2014</td>\n",
       "      <td>True</td>\n",
       "      <td>One does not simply not buy Garry's Mod. I rec...</td>\n",
       "      <td>80</td>\n",
       "      <td>10</td>\n",
       "      <td>1</td>\n",
       "      <td>[one, simply, buy, garry, mod, recommend, buy]</td>\n",
       "    </tr>\n",
       "    <tr>\n",
       "      <td>9</td>\n",
       "      <td>177</td>\n",
       "      <td>2015</td>\n",
       "      <td>True</td>\n",
       "      <td>My childhood game has finally gotten onto stea...</td>\n",
       "      <td>68</td>\n",
       "      <td>41</td>\n",
       "      <td>1</td>\n",
       "      <td>[childhood, game, finally, gotten, onto, steam...</td>\n",
       "    </tr>\n",
       "  </tbody>\n",
       "</table>\n",
       "</div>"
      ],
      "text/plain": [
       "   index  posted  recommend  \\\n",
       "0      3    2014       True   \n",
       "4     49    2015       True   \n",
       "5     72    2014       True   \n",
       "6     73    2014       True   \n",
       "9    177    2015       True   \n",
       "\n",
       "                                              review  %_help  num_help  \\\n",
       "0  I know what you think when you see this title ...      75        20   \n",
       "4  I'm going to keep this somewhat short and swee...      90        31   \n",
       "5  Love it. Love it. And since I can read cyrilli...      66        41   \n",
       "6  One does not simply not buy Garry's Mod. I rec...      80        10   \n",
       "9  My childhood game has finally gotten onto stea...      68        41   \n",
       "\n",
       "   overall                                               text  \n",
       "0        1  [know, think, see, title, barbie, dreamhouse, ...  \n",
       "4        1  [m, going, keep, somewhat, short, sweetat, tim...  \n",
       "5        1  [love, love, since, read, cyrillic, script, pl...  \n",
       "6        1     [one, simply, buy, garry, mod, recommend, buy]  \n",
       "9        1  [childhood, game, finally, gotten, onto, steam...  "
      ]
     },
     "execution_count": 50,
     "metadata": {},
     "output_type": "execute_result"
    }
   ],
   "source": [
    "#test the data\n",
    "data_help.head()"
   ]
  },
  {
   "cell_type": "code",
   "execution_count": 51,
   "metadata": {},
   "outputs": [],
   "source": [
    "#remove the additional index\n",
    "data_help=data_help.drop('index',axis=1)"
   ]
  },
  {
   "cell_type": "code",
   "execution_count": 52,
   "metadata": {},
   "outputs": [
    {
     "data": {
      "text/html": [
       "<div>\n",
       "<style scoped>\n",
       "    .dataframe tbody tr th:only-of-type {\n",
       "        vertical-align: middle;\n",
       "    }\n",
       "\n",
       "    .dataframe tbody tr th {\n",
       "        vertical-align: top;\n",
       "    }\n",
       "\n",
       "    .dataframe thead th {\n",
       "        text-align: right;\n",
       "    }\n",
       "</style>\n",
       "<table border=\"1\" class=\"dataframe\">\n",
       "  <thead>\n",
       "    <tr style=\"text-align: right;\">\n",
       "      <th></th>\n",
       "      <th>posted</th>\n",
       "      <th>recommend</th>\n",
       "      <th>review</th>\n",
       "      <th>%_help</th>\n",
       "      <th>num_help</th>\n",
       "      <th>overall</th>\n",
       "      <th>text</th>\n",
       "    </tr>\n",
       "  </thead>\n",
       "  <tbody>\n",
       "    <tr>\n",
       "      <td>0</td>\n",
       "      <td>2014</td>\n",
       "      <td>True</td>\n",
       "      <td>I know what you think when you see this title ...</td>\n",
       "      <td>75</td>\n",
       "      <td>20</td>\n",
       "      <td>1</td>\n",
       "      <td>[know, think, see, title, barbie, dreamhouse, ...</td>\n",
       "    </tr>\n",
       "    <tr>\n",
       "      <td>4</td>\n",
       "      <td>2015</td>\n",
       "      <td>True</td>\n",
       "      <td>I'm going to keep this somewhat short and swee...</td>\n",
       "      <td>90</td>\n",
       "      <td>31</td>\n",
       "      <td>1</td>\n",
       "      <td>[m, going, keep, somewhat, short, sweetat, tim...</td>\n",
       "    </tr>\n",
       "    <tr>\n",
       "      <td>5</td>\n",
       "      <td>2014</td>\n",
       "      <td>True</td>\n",
       "      <td>Love it. Love it. And since I can read cyrilli...</td>\n",
       "      <td>66</td>\n",
       "      <td>41</td>\n",
       "      <td>1</td>\n",
       "      <td>[love, love, since, read, cyrillic, script, pl...</td>\n",
       "    </tr>\n",
       "    <tr>\n",
       "      <td>6</td>\n",
       "      <td>2014</td>\n",
       "      <td>True</td>\n",
       "      <td>One does not simply not buy Garry's Mod. I rec...</td>\n",
       "      <td>80</td>\n",
       "      <td>10</td>\n",
       "      <td>1</td>\n",
       "      <td>[one, simply, buy, garry, mod, recommend, buy]</td>\n",
       "    </tr>\n",
       "    <tr>\n",
       "      <td>9</td>\n",
       "      <td>2015</td>\n",
       "      <td>True</td>\n",
       "      <td>My childhood game has finally gotten onto stea...</td>\n",
       "      <td>68</td>\n",
       "      <td>41</td>\n",
       "      <td>1</td>\n",
       "      <td>[childhood, game, finally, gotten, onto, steam...</td>\n",
       "    </tr>\n",
       "  </tbody>\n",
       "</table>\n",
       "</div>"
      ],
      "text/plain": [
       "   posted  recommend                                             review  \\\n",
       "0    2014       True  I know what you think when you see this title ...   \n",
       "4    2015       True  I'm going to keep this somewhat short and swee...   \n",
       "5    2014       True  Love it. Love it. And since I can read cyrilli...   \n",
       "6    2014       True  One does not simply not buy Garry's Mod. I rec...   \n",
       "9    2015       True  My childhood game has finally gotten onto stea...   \n",
       "\n",
       "   %_help  num_help  overall  \\\n",
       "0      75        20        1   \n",
       "4      90        31        1   \n",
       "5      66        41        1   \n",
       "6      80        10        1   \n",
       "9      68        41        1   \n",
       "\n",
       "                                                text  \n",
       "0  [know, think, see, title, barbie, dreamhouse, ...  \n",
       "4  [m, going, keep, somewhat, short, sweetat, tim...  \n",
       "5  [love, love, since, read, cyrillic, script, pl...  \n",
       "6     [one, simply, buy, garry, mod, recommend, buy]  \n",
       "9  [childhood, game, finally, gotten, onto, steam...  "
      ]
     },
     "execution_count": 52,
     "metadata": {},
     "output_type": "execute_result"
    }
   ],
   "source": [
    "#test the data\n",
    "data_help.head()"
   ]
  },
  {
   "cell_type": "code",
   "execution_count": 53,
   "metadata": {},
   "outputs": [],
   "source": [
    "#choose the data to list\n",
    "clean_review = df_list(data_help['text'])"
   ]
  },
  {
   "cell_type": "code",
   "execution_count": 54,
   "metadata": {},
   "outputs": [],
   "source": [
    "#change the list to str\n",
    "for i in range(len(clean_review)):\n",
    "    clean_review[i]=\" \".join(clean_review[i])"
   ]
  },
  {
   "cell_type": "code",
   "execution_count": 55,
   "metadata": {},
   "outputs": [
    {
     "name": "stdout",
     "output_type": "stream",
     "text": [
      "know think see title barbie dreamhouse party intimidated title easily one gotys get cliche game mechanics latest games simply good core gameplay yes noscope friends show bad dance moves put shame show true fashion color combinations know game says kids easily age range age blast playing\n"
     ]
    }
   ],
   "source": [
    "#test the data\n",
    "print(clean_review[0])"
   ]
  },
  {
   "cell_type": "code",
   "execution_count": 56,
   "metadata": {},
   "outputs": [],
   "source": [
    "#update the data\n",
    "data_help['text']=clean_review"
   ]
  },
  {
   "cell_type": "code",
   "execution_count": 57,
   "metadata": {},
   "outputs": [
    {
     "data": {
      "text/html": [
       "<div>\n",
       "<style scoped>\n",
       "    .dataframe tbody tr th:only-of-type {\n",
       "        vertical-align: middle;\n",
       "    }\n",
       "\n",
       "    .dataframe tbody tr th {\n",
       "        vertical-align: top;\n",
       "    }\n",
       "\n",
       "    .dataframe thead th {\n",
       "        text-align: right;\n",
       "    }\n",
       "</style>\n",
       "<table border=\"1\" class=\"dataframe\">\n",
       "  <thead>\n",
       "    <tr style=\"text-align: right;\">\n",
       "      <th></th>\n",
       "      <th>posted</th>\n",
       "      <th>recommend</th>\n",
       "      <th>review</th>\n",
       "      <th>%_help</th>\n",
       "      <th>num_help</th>\n",
       "      <th>overall</th>\n",
       "      <th>text</th>\n",
       "    </tr>\n",
       "  </thead>\n",
       "  <tbody>\n",
       "    <tr>\n",
       "      <td>0</td>\n",
       "      <td>2014</td>\n",
       "      <td>True</td>\n",
       "      <td>I know what you think when you see this title ...</td>\n",
       "      <td>75</td>\n",
       "      <td>20</td>\n",
       "      <td>1</td>\n",
       "      <td>know think see title barbie dreamhouse party i...</td>\n",
       "    </tr>\n",
       "    <tr>\n",
       "      <td>4</td>\n",
       "      <td>2015</td>\n",
       "      <td>True</td>\n",
       "      <td>I'm going to keep this somewhat short and swee...</td>\n",
       "      <td>90</td>\n",
       "      <td>31</td>\n",
       "      <td>1</td>\n",
       "      <td>m going keep somewhat short sweetat time writi...</td>\n",
       "    </tr>\n",
       "    <tr>\n",
       "      <td>5</td>\n",
       "      <td>2014</td>\n",
       "      <td>True</td>\n",
       "      <td>Love it. Love it. And since I can read cyrilli...</td>\n",
       "      <td>66</td>\n",
       "      <td>41</td>\n",
       "      <td>1</td>\n",
       "      <td>love love since read cyrillic script play rusi...</td>\n",
       "    </tr>\n",
       "    <tr>\n",
       "      <td>6</td>\n",
       "      <td>2014</td>\n",
       "      <td>True</td>\n",
       "      <td>One does not simply not buy Garry's Mod. I rec...</td>\n",
       "      <td>80</td>\n",
       "      <td>10</td>\n",
       "      <td>1</td>\n",
       "      <td>one simply buy garry mod recommend buy</td>\n",
       "    </tr>\n",
       "    <tr>\n",
       "      <td>9</td>\n",
       "      <td>2015</td>\n",
       "      <td>True</td>\n",
       "      <td>My childhood game has finally gotten onto stea...</td>\n",
       "      <td>68</td>\n",
       "      <td>41</td>\n",
       "      <td>1</td>\n",
       "      <td>childhood game finally gotten onto steam worth</td>\n",
       "    </tr>\n",
       "  </tbody>\n",
       "</table>\n",
       "</div>"
      ],
      "text/plain": [
       "   posted  recommend                                             review  \\\n",
       "0    2014       True  I know what you think when you see this title ...   \n",
       "4    2015       True  I'm going to keep this somewhat short and swee...   \n",
       "5    2014       True  Love it. Love it. And since I can read cyrilli...   \n",
       "6    2014       True  One does not simply not buy Garry's Mod. I rec...   \n",
       "9    2015       True  My childhood game has finally gotten onto stea...   \n",
       "\n",
       "   %_help  num_help  overall  \\\n",
       "0      75        20        1   \n",
       "4      90        31        1   \n",
       "5      66        41        1   \n",
       "6      80        10        1   \n",
       "9      68        41        1   \n",
       "\n",
       "                                                text  \n",
       "0  know think see title barbie dreamhouse party i...  \n",
       "4  m going keep somewhat short sweetat time writi...  \n",
       "5  love love since read cyrillic script play rusi...  \n",
       "6             one simply buy garry mod recommend buy  \n",
       "9     childhood game finally gotten onto steam worth  "
      ]
     },
     "execution_count": 57,
     "metadata": {},
     "output_type": "execute_result"
    }
   ],
   "source": [
    "#test the data\n",
    "data_help.head()"
   ]
  },
  {
   "cell_type": "markdown",
   "metadata": {},
   "source": [
    "# TD - IDF"
   ]
  },
  {
   "attachments": {
    "image.png": {
     "image/png": "[encoded data removed]"
    }
   },
   "cell_type": "markdown",
   "metadata": {},
   "source": [
    "TF-IDF mainly divided into two parts: TF (Term Frequency) and IDF (Inverse Document Frequency).\n",
    "\n",
    "TF: Term Frequency, in this analysis, it measures the frequency that the words occur in reviews. It is worth noting that words may appear more often in longer reviews than in shorter reviews. The ratio of the number of times the word appears to the total length of the document (the total number of words in the document) is used to solve this problem. The formula is as follows:\n",
    "![image.png](attachment:image.png)\n",
    "\n",
    "IDF: Inverse Document Frequency, which measures the importance of the words. When TF method is used, the importance of all words is considered equally. It means that some unimportant words (e.g.: ‘game’) but use frequently, will reduce the weight of some words that can represent the actual meaning of the sentence. (e.g.: 'simple'). To solve this problem, the inverse document frequency factor is introduced, which reduces the weight of entries that appear very frequently in the document set and increases the weight of the frequency of words that appear rarely. The formula is as follows:\n",
    "![image.png](attachment:image.png)\n",
    "\n",
    "CountVectorizer and TfidfTransformer in Scikit-Learn can implement the weight calculation method of TF-IDF.\n",
    "\n",
    "CountVectorizer class converts the morphology in the text into a word frequency matrix. For example, the matrix contains an element a [i] [j], which represents the word frequency of j words in the i type text. The keywords of all the text in the bag of words could be mentioned by using get_feature_names().the result of the word frequency matrix could be shown by doing toarray().\n",
    "\n",
    "TfidfTransformer is used to count the TF-IDF value of each word in the vectorizer. The specific usage of each class will be explained in the code comments. \n",
    "\n",
    "The specific operation process is on the following web page: https://scikit-learn.org/stable/modules/generated/sklearn.feature_extraction.text.TfidfVectorizer.html"
   ]
  },
  {
   "cell_type": "code",
   "execution_count": 58,
   "metadata": {},
   "outputs": [],
   "source": [
    "from sklearn.feature_extraction.text import TfidfTransformer\n",
    "from sklearn.feature_extraction.text import CountVectorizer"
   ]
  },
  {
   "cell_type": "code",
   "execution_count": 59,
   "metadata": {},
   "outputs": [],
   "source": [
    "#count the number of words appears in each reviews\n",
    "cv = CountVectorizer()\n",
    "#count the tf-idf weight of each word\n",
    "tf_idf=TfidfTransformer()\n",
    "#calculate the total weight\n",
    "x = tf_idf.fit_transform(cv.fit_transform(clean_review))\n",
    "#get all the words\n",
    "words = cv.get_feature_names()\n",
    "#ge the weight\n",
    "weight= x.toarray()"
   ]
  },
  {
   "cell_type": "code",
   "execution_count": 60,
   "metadata": {},
   "outputs": [
    {
     "name": "stdout",
     "output_type": "stream",
     "text": [
      "[[0. 0. 0. ... 0. 0. 0.]\n",
      " [0. 0. 0. ... 0. 0. 0.]\n",
      " [0. 0. 0. ... 0. 0. 0.]\n",
      " ...\n",
      " [0. 0. 0. ... 0. 0. 0.]\n",
      " [0. 0. 0. ... 0. 0. 0.]\n",
      " [0. 0. 0. ... 0. 0. 0.]]\n"
     ]
    }
   ],
   "source": [
    "#test the data\n",
    "print(weight)"
   ]
  },
  {
   "cell_type": "markdown",
   "metadata": {},
   "source": [
    "# Cluster the reviews"
   ]
  },
  {
   "cell_type": "markdown",
   "metadata": {},
   "source": [
    "After keyword extraction, this step is used to classify the text. In this step, K-means clustering is selected, which is more commonly used in clustering algorithms and widely used when clustering large-scale data because of the higher algorithm efficiency. The goal here is to divide the text into four categories. The types of game reviews predicted here are game strategy, gaming experience, suitable age of the games, game background story introduction."
   ]
  },
  {
   "cell_type": "code",
   "execution_count": 61,
   "metadata": {},
   "outputs": [],
   "source": [
    "from sklearn.cluster import KMeans"
   ]
  },
  {
   "cell_type": "code",
   "execution_count": 62,
   "metadata": {},
   "outputs": [],
   "source": [
    "#do the kmeans cluster\n",
    "kms = KMeans(n_clusters=4)\n",
    "#input the data\n",
    "s = kms.fit(weight)"
   ]
  },
  {
   "cell_type": "code",
   "execution_count": 63,
   "metadata": {},
   "outputs": [],
   "source": [
    "# ge the types of different reviews\n",
    "types= (kms.labels_)\n",
    "#put data to the 'types' column\n",
    "data_help['types']=types"
   ]
  },
  {
   "cell_type": "code",
   "execution_count": 64,
   "metadata": {},
   "outputs": [
    {
     "data": {
      "text/html": [
       "<div>\n",
       "<style scoped>\n",
       "    .dataframe tbody tr th:only-of-type {\n",
       "        vertical-align: middle;\n",
       "    }\n",
       "\n",
       "    .dataframe tbody tr th {\n",
       "        vertical-align: top;\n",
       "    }\n",
       "\n",
       "    .dataframe thead th {\n",
       "        text-align: right;\n",
       "    }\n",
       "</style>\n",
       "<table border=\"1\" class=\"dataframe\">\n",
       "  <thead>\n",
       "    <tr style=\"text-align: right;\">\n",
       "      <th></th>\n",
       "      <th>posted</th>\n",
       "      <th>recommend</th>\n",
       "      <th>review</th>\n",
       "      <th>%_help</th>\n",
       "      <th>num_help</th>\n",
       "      <th>overall</th>\n",
       "      <th>text</th>\n",
       "      <th>types</th>\n",
       "    </tr>\n",
       "  </thead>\n",
       "  <tbody>\n",
       "    <tr>\n",
       "      <td>0</td>\n",
       "      <td>2014</td>\n",
       "      <td>True</td>\n",
       "      <td>I know what you think when you see this title ...</td>\n",
       "      <td>75</td>\n",
       "      <td>20</td>\n",
       "      <td>1</td>\n",
       "      <td>know think see title barbie dreamhouse party i...</td>\n",
       "      <td>3</td>\n",
       "    </tr>\n",
       "    <tr>\n",
       "      <td>4</td>\n",
       "      <td>2015</td>\n",
       "      <td>True</td>\n",
       "      <td>I'm going to keep this somewhat short and swee...</td>\n",
       "      <td>90</td>\n",
       "      <td>31</td>\n",
       "      <td>1</td>\n",
       "      <td>m going keep somewhat short sweetat time writi...</td>\n",
       "      <td>3</td>\n",
       "    </tr>\n",
       "    <tr>\n",
       "      <td>5</td>\n",
       "      <td>2014</td>\n",
       "      <td>True</td>\n",
       "      <td>Love it. Love it. And since I can read cyrilli...</td>\n",
       "      <td>66</td>\n",
       "      <td>41</td>\n",
       "      <td>1</td>\n",
       "      <td>love love since read cyrillic script play rusi...</td>\n",
       "      <td>1</td>\n",
       "    </tr>\n",
       "    <tr>\n",
       "      <td>6</td>\n",
       "      <td>2014</td>\n",
       "      <td>True</td>\n",
       "      <td>One does not simply not buy Garry's Mod. I rec...</td>\n",
       "      <td>80</td>\n",
       "      <td>10</td>\n",
       "      <td>1</td>\n",
       "      <td>one simply buy garry mod recommend buy</td>\n",
       "      <td>1</td>\n",
       "    </tr>\n",
       "    <tr>\n",
       "      <td>9</td>\n",
       "      <td>2015</td>\n",
       "      <td>True</td>\n",
       "      <td>My childhood game has finally gotten onto stea...</td>\n",
       "      <td>68</td>\n",
       "      <td>41</td>\n",
       "      <td>1</td>\n",
       "      <td>childhood game finally gotten onto steam worth</td>\n",
       "      <td>1</td>\n",
       "    </tr>\n",
       "  </tbody>\n",
       "</table>\n",
       "</div>"
      ],
      "text/plain": [
       "   posted  recommend                                             review  \\\n",
       "0    2014       True  I know what you think when you see this title ...   \n",
       "4    2015       True  I'm going to keep this somewhat short and swee...   \n",
       "5    2014       True  Love it. Love it. And since I can read cyrilli...   \n",
       "6    2014       True  One does not simply not buy Garry's Mod. I rec...   \n",
       "9    2015       True  My childhood game has finally gotten onto stea...   \n",
       "\n",
       "   %_help  num_help  overall  \\\n",
       "0      75        20        1   \n",
       "4      90        31        1   \n",
       "5      66        41        1   \n",
       "6      80        10        1   \n",
       "9      68        41        1   \n",
       "\n",
       "                                                text  types  \n",
       "0  know think see title barbie dreamhouse party i...      3  \n",
       "4  m going keep somewhat short sweetat time writi...      3  \n",
       "5  love love since read cyrillic script play rusi...      1  \n",
       "6             one simply buy garry mod recommend buy      1  \n",
       "9     childhood game finally gotten onto steam worth      1  "
      ]
     },
     "execution_count": 64,
     "metadata": {},
     "output_type": "execute_result"
    }
   ],
   "source": [
    "#test the data\n",
    "data_help.head()"
   ]
  },
  {
   "cell_type": "markdown",
   "metadata": {},
   "source": [
    "The optimal number of K-means clusters is not calculated here. One reason is due to the excessive amount of data, the computer time for calculating the optimal number of clusters is slow,  the other reason is that the expected classification results already have."
   ]
  },
  {
   "cell_type": "markdown",
   "metadata": {},
   "source": [
    "# Store the cleaning data"
   ]
  },
  {
   "cell_type": "markdown",
   "metadata": {},
   "source": [
    "Due to a large amount of data, the calculation of k-means takes time. In order to be able to directly read the processed data when it is opened next time, export the processed data to a new CSV format file."
   ]
  },
  {
   "cell_type": "code",
   "execution_count": 65,
   "metadata": {},
   "outputs": [],
   "source": [
    "# put data to new csv\n",
    "data_help.to_csv('clean_review.csv',index_label='index')"
   ]
  },
  {
   "cell_type": "code",
   "execution_count": 66,
   "metadata": {},
   "outputs": [
    {
     "data": {
      "text/html": [
       "<div>\n",
       "<style scoped>\n",
       "    .dataframe tbody tr th:only-of-type {\n",
       "        vertical-align: middle;\n",
       "    }\n",
       "\n",
       "    .dataframe tbody tr th {\n",
       "        vertical-align: top;\n",
       "    }\n",
       "\n",
       "    .dataframe thead th {\n",
       "        text-align: right;\n",
       "    }\n",
       "</style>\n",
       "<table border=\"1\" class=\"dataframe\">\n",
       "  <thead>\n",
       "    <tr style=\"text-align: right;\">\n",
       "      <th></th>\n",
       "      <th>index</th>\n",
       "      <th>posted</th>\n",
       "      <th>recommend</th>\n",
       "      <th>review</th>\n",
       "      <th>%_help</th>\n",
       "      <th>num_help</th>\n",
       "      <th>overall</th>\n",
       "      <th>text</th>\n",
       "      <th>types</th>\n",
       "    </tr>\n",
       "  </thead>\n",
       "  <tbody>\n",
       "    <tr>\n",
       "      <td>0</td>\n",
       "      <td>0</td>\n",
       "      <td>2014</td>\n",
       "      <td>True</td>\n",
       "      <td>I know what you think when you see this title ...</td>\n",
       "      <td>75</td>\n",
       "      <td>20</td>\n",
       "      <td>1</td>\n",
       "      <td>know think see title barbie dreamhouse party i...</td>\n",
       "      <td>3</td>\n",
       "    </tr>\n",
       "    <tr>\n",
       "      <td>1</td>\n",
       "      <td>4</td>\n",
       "      <td>2015</td>\n",
       "      <td>True</td>\n",
       "      <td>I'm going to keep this somewhat short and swee...</td>\n",
       "      <td>90</td>\n",
       "      <td>31</td>\n",
       "      <td>1</td>\n",
       "      <td>m going keep somewhat short sweetat time writi...</td>\n",
       "      <td>3</td>\n",
       "    </tr>\n",
       "    <tr>\n",
       "      <td>2</td>\n",
       "      <td>5</td>\n",
       "      <td>2014</td>\n",
       "      <td>True</td>\n",
       "      <td>Love it. Love it. And since I can read cyrilli...</td>\n",
       "      <td>66</td>\n",
       "      <td>41</td>\n",
       "      <td>1</td>\n",
       "      <td>love love since read cyrillic script play rusi...</td>\n",
       "      <td>1</td>\n",
       "    </tr>\n",
       "    <tr>\n",
       "      <td>3</td>\n",
       "      <td>6</td>\n",
       "      <td>2014</td>\n",
       "      <td>True</td>\n",
       "      <td>One does not simply not buy Garry's Mod. I rec...</td>\n",
       "      <td>80</td>\n",
       "      <td>10</td>\n",
       "      <td>1</td>\n",
       "      <td>one simply buy garry mod recommend buy</td>\n",
       "      <td>1</td>\n",
       "    </tr>\n",
       "    <tr>\n",
       "      <td>4</td>\n",
       "      <td>9</td>\n",
       "      <td>2015</td>\n",
       "      <td>True</td>\n",
       "      <td>My childhood game has finally gotten onto stea...</td>\n",
       "      <td>68</td>\n",
       "      <td>41</td>\n",
       "      <td>1</td>\n",
       "      <td>childhood game finally gotten onto steam worth</td>\n",
       "      <td>1</td>\n",
       "    </tr>\n",
       "  </tbody>\n",
       "</table>\n",
       "</div>"
      ],
      "text/plain": [
       "   index  posted  recommend  \\\n",
       "0      0    2014       True   \n",
       "1      4    2015       True   \n",
       "2      5    2014       True   \n",
       "3      6    2014       True   \n",
       "4      9    2015       True   \n",
       "\n",
       "                                              review  %_help  num_help  \\\n",
       "0  I know what you think when you see this title ...      75        20   \n",
       "1  I'm going to keep this somewhat short and swee...      90        31   \n",
       "2  Love it. Love it. And since I can read cyrilli...      66        41   \n",
       "3  One does not simply not buy Garry's Mod. I rec...      80        10   \n",
       "4  My childhood game has finally gotten onto stea...      68        41   \n",
       "\n",
       "   overall                                               text  types  \n",
       "0        1  know think see title barbie dreamhouse party i...      3  \n",
       "1        1  m going keep somewhat short sweetat time writi...      3  \n",
       "2        1  love love since read cyrillic script play rusi...      1  \n",
       "3        1             one simply buy garry mod recommend buy      1  \n",
       "4        1     childhood game finally gotten onto steam worth      1  "
      ]
     },
     "execution_count": 66,
     "metadata": {},
     "output_type": "execute_result"
    }
   ],
   "source": [
    "#test data\n",
    "new_data=pd.read_csv('clean_review.csv')\n",
    "new_data.head()"
   ]
  },
  {
   "cell_type": "markdown",
   "metadata": {},
   "source": [
    "# Highest overall evaluation reviews type"
   ]
  },
  {
   "cell_type": "markdown",
   "metadata": {},
   "source": [
    "The method used in this step is called 'groupby'. The groupby method can perform operations such as slicing, dicing, and summarizing the data set. At the same time, it can quickly divide the grouped data of the data frame according to user needs for calculation. The specific functions are shown in the following network： https://pandas.pydata.org/pandas-docs/stable/reference/api/pandas.DataFrame.groupby.html"
   ]
  },
  {
   "cell_type": "markdown",
   "metadata": {},
   "source": [
    "Find out the category with the highest comprehensive evaluation of reviews in total."
   ]
  },
  {
   "cell_type": "code",
   "execution_count": 67,
   "metadata": {},
   "outputs": [
    {
     "data": {
      "text/plain": [
       "<matplotlib.axes._subplots.AxesSubplot at 0x112de448>"
      ]
     },
     "execution_count": 67,
     "metadata": {},
     "output_type": "execute_result"
    },
    {
     "data": {
      "image/png": "[encoded data removed]",
      "text/plain": [
       "<Figure size 432x288 with 1 Axes>"
      ]
     },
     "metadata": {
      "needs_background": "light"
     },
     "output_type": "display_data"
    }
   ],
   "source": [
    "#group the data\n",
    "#clean_review.groupby('posted').types.count()#.plot(kind='bar')\n",
    "new_data.groupby('types').posted.count().plot(kind='bar')"
   ]
  },
  {
   "cell_type": "markdown",
   "metadata": {},
   "source": [
    "Find out the category with the highest comprehensive evaluation of reviews each year."
   ]
  },
  {
   "cell_type": "code",
   "execution_count": 68,
   "metadata": {},
   "outputs": [],
   "source": [
    "#use group by to find types form each year, and put them to list\n",
    "#2014 year\n",
    "d_14=new_data.loc[new_data['posted']==2014].groupby('types').posted.count()\n",
    "y_14=[i for i in d_14]\n",
    "\n",
    "#2015 year\n",
    "d_15=new_data.loc[new_data['posted']==2015].groupby('types').posted.count()\n",
    "y_15=[i for i in d_15]\n",
    "\n",
    "#2018 year\n",
    "d_18=new_data.loc[new_data['posted']==2018].groupby('types').posted.count()\n",
    "y_18=[i for i in d_18]"
   ]
  },
  {
   "cell_type": "code",
   "execution_count": 69,
   "metadata": {},
   "outputs": [],
   "source": [
    "#bulid up a new datarame\n",
    "counts={'2014':y_14,'2015':y_15,'2018':y_18}\n",
    "df_counts =pd. DataFrame(counts)"
   ]
  },
  {
   "cell_type": "code",
   "execution_count": 70,
   "metadata": {},
   "outputs": [
    {
     "data": {
      "text/plain": [
       "<matplotlib.axes._subplots.AxesSubplot at 0x112eae08>"
      ]
     },
     "execution_count": 70,
     "metadata": {},
     "output_type": "execute_result"
    },
    {
     "data": {
      "image/png": "[encoded data removed]",
      "text/plain": [
       "<Figure size 432x288 with 1 Axes>"
      ]
     },
     "metadata": {
      "needs_background": "light"
     },
     "output_type": "display_data"
    },
    {
     "data": {
      "image/png": "[encoded data removed]",
      "text/plain": [
       "<Figure size 432x288 with 1 Axes>"
      ]
     },
     "metadata": {
      "needs_background": "light"
     },
     "output_type": "display_data"
    }
   ],
   "source": [
    "#show the graph\n",
    "df_counts.plot.bar()\n",
    "df_counts.plot.barh(stacked=True)"
   ]
  },
  {
   "cell_type": "markdown",
   "metadata": {},
   "source": [
    "The type of the highest comprehensive evaluation of the evaluation is the same annually and overall"
   ]
  },
  {
   "cell_type": "markdown",
   "metadata": {},
   "source": [
    "#  The instability of k-means"
   ]
  },
  {
   "cell_type": "markdown",
   "metadata": {},
   "source": [
    " Due to the instability of k-means, there may be deviations in the clustering results.\n",
    " "
   ]
  },
  {
   "cell_type": "markdown",
   "metadata": {},
   "source": [
    "# Show the most popular review type content through word cloud "
   ]
  },
  {
   "attachments": {
    "image.png": {
     "image/png": "[encoded data removed]"
    }
   },
   "cell_type": "markdown",
   "metadata": {},
   "source": [
    "The principle of the word cloud is to count the frequency of the input text data, display the vocabulary in different proportions according to the frequency of vocabulary occurrence, and generate pictures. Words with a high frequency are displayed large, and words with a low frequency are displayed small. However, it needs to install. The install link is as follows: https://pypi.org/project/wordcloud/#files\n",
    "This step needs to check the version of python because my version is python3.7, download the corresponding version and install it with pop install：![image.png](attachment:image.png)"
   ]
  },
  {
   "cell_type": "code",
   "execution_count": 71,
   "metadata": {},
   "outputs": [],
   "source": [
    "from wordcloud import WordCloud"
   ]
  },
  {
   "cell_type": "markdown",
   "metadata": {},
   "source": [
    "Before doing the word cloud, preprocessing the data."
   ]
  },
  {
   "cell_type": "code",
   "execution_count": 72,
   "metadata": {},
   "outputs": [],
   "source": [
    "new_data=new_data.loc[new_data['types']==new_data['types'].value_counts().idxmax()]"
   ]
  },
  {
   "cell_type": "code",
   "execution_count": 73,
   "metadata": {},
   "outputs": [],
   "source": [
    "#change the word to string \n",
    "word_list=df_list(new_data['text'])\n",
    "str_word = \" \".join(word_list)"
   ]
  },
  {
   "cell_type": "markdown",
   "metadata": {},
   "source": [
    "Make a word cloud and visualize it."
   ]
  },
  {
   "cell_type": "code",
   "execution_count": 74,
   "metadata": {},
   "outputs": [
    {
     "data": {
      "image/png": "[encoded data removed]",
      "text/plain": [
       "<Figure size 432x288 with 1 Axes>"
      ]
     },
     "metadata": {
      "needs_background": "light"
     },
     "output_type": "display_data"
    }
   ],
   "source": [
    "wordcloud = WordCloud(\n",
    "    #set the background to white, the default is black\n",
    "        background_color=\"white\",\n",
    "    #specify the maximum font size\n",
    "        max_font_size=840, \n",
    "    #set the width of the picture\n",
    "        width=4200,   \n",
    "    #set the height of the picture\n",
    "        height=2400,\n",
    "    #set the edge of the picture\n",
    "        margin=10 \n",
    "    #import dataset\n",
    "        ).generate(str_word)\n",
    "# Draw picture\n",
    "plt.imshow(wordcloud)\n",
    "# Eliminate axis\n",
    "plt.axis(\"off\")\n",
    "plt.show()\n"
   ]
  },
  {
   "cell_type": "markdown",
   "metadata": {},
   "source": [
    "# Conclusion"
   ]
  },
  {
   "cell_type": "markdown",
   "metadata": {},
   "source": [
    "Through the display of the word cloud, it can be found that the words which related to time (e.g.: life, time, hour) and the evaluation of whether it is a game worth playing (e.g.: want, good, great) appears more frequently in this type of reviews. As a result, it can be speculated that the type of reviews with the highest overall rating is the comment about the duration of the game.\n"
   ]
  }
 ],
 "metadata": {
  "kernelspec": {
   "display_name": "Python 3",
   "language": "python",
   "name": "python3"
  },
  "language_info": {
   "codemirror_mode": {
    "name": "ipython",
    "version": 3
   },
   "file_extension": ".py",
   "mimetype": "text/x-python",
   "name": "python",
   "nbconvert_exporter": "python",
   "pygments_lexer": "ipython3",
   "version": "3.8.5"
  }
 },
 "nbformat": 4,
 "nbformat_minor": 2
}
